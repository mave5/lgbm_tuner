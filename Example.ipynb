{
 "cells": [
  {
   "cell_type": "code",
   "execution_count": 1,
   "id": "17376a57-40dd-48ab-8b46-a0bc29c17b9d",
   "metadata": {},
   "outputs": [],
   "source": [
    "import numpy as np\n",
    "from lightgbm import LGBMClassifier, LGBMRegressor\n",
    "import lightgbm as lgb\n",
    "import sklearn\n",
    "import json\n",
    "import os"
   ]
  },
  {
   "cell_type": "code",
   "execution_count": 2,
   "id": "17f30af1-2d8d-49fc-9653-e3afffee8df3",
   "metadata": {},
   "outputs": [
    {
     "name": "stdout",
     "output_type": "stream",
     "text": [
      "(1000, 10) (1000, 10) (1000,) (1000,)\n"
     ]
    }
   ],
   "source": [
    "n_rows, n_cols, n_grps = 1000, 10, 5\n",
    "\n",
    "x_train = np.random.rand(n_rows, n_cols)\n",
    "x_test = np.random.rand(n_rows, n_cols)\n",
    "\n",
    "y_train = np.random.randint(2, size=n_rows)\n",
    "y_test = np.random.randint(2, size=n_rows)\n",
    "\n",
    "groups_train = np.random.randint(n_grps, size=n_rows)\n",
    "groups_test = np.random.randint(n_grps, size=n_rows)\n",
    "\n",
    "print(x_train.shape, x_test.shape, y_train.shape, y_test.shape)"
   ]
  },
  {
   "cell_type": "code",
   "execution_count": 3,
   "id": "000cc3fd-4352-40e1-8125-f60de5e20917",
   "metadata": {},
   "outputs": [
    {
     "name": "stderr",
     "output_type": "stream",
     "text": [
      "[I 211102 21:07:49 auto_lgbm:49] hyper-parameter tunning in progress ...\n"
     ]
    },
    {
     "name": "stdout",
     "output_type": "stream",
     "text": [
      "[LightGBM] [Warning] feature_fraction is set=0.816089466689486, colsample_bytree=1.0 will be ignored. Current value: feature_fraction=0.816089466689486\n",
      "[LightGBM] [Warning] min_data_in_leaf is set=679, min_child_samples=20 will be ignored. Current value: min_data_in_leaf=679\n",
      "[LightGBM] [Warning] min_gain_to_split is set=7.346768424642352, min_split_gain=0.0 will be ignored. Current value: min_gain_to_split=7.346768424642352\n",
      "[LightGBM] [Warning] lambda_l1 is set=94, reg_alpha=0.0 will be ignored. Current value: lambda_l1=94\n",
      "[LightGBM] [Warning] lambda_l2 is set=90, reg_lambda=0.0 will be ignored. Current value: lambda_l2=90\n"
     ]
    },
    {
     "name": "stderr",
     "output_type": "stream",
     "text": [
      "[I 211102 21:07:55 auto_lgbm:64] parameters are stored in auto_lgbm.json\n"
     ]
    }
   ],
   "source": [
    "import warnings\n",
    "warnings.filterwarnings(\"ignore\")\n",
    "\n",
    "# hyper-parameter tunning\n",
    "import tuner_config\n",
    "from auto_lgbm import LGBMTuner\n",
    "lgbm_tr = LGBMTuner(configs=tuner_config)\n",
    "params_opt = lgbm_tr.tune(X=x_train,\n",
    "                        y=y_train,\n",
    "                        groups=groups_train,\n",
    "                        categorical_feature='auto',\n",
    "                        feature_name=None)"
   ]
  },
  {
   "cell_type": "code",
   "execution_count": 4,
   "id": "ca6b3413-1323-452c-ae3a-ca6b2fa14403",
   "metadata": {},
   "outputs": [
    {
     "data": {
      "text/plain": [
       "{'learning_rate': 0.1,\n",
       " 'n_estimators': 100,\n",
       " 'subsample_freq': 1,\n",
       " 'max_depth': 12,\n",
       " 'min_data_in_leaf': 679,\n",
       " 'num_leaves': 44,\n",
       " 'subsample': 0.9036402882362617,\n",
       " 'feature_fraction': 0.816089466689486,\n",
       " 'lambda_l1': 94,\n",
       " 'lambda_l2': 90,\n",
       " 'min_gain_to_split': 7.346768424642352,\n",
       " 'min_child_weight': 1.543389098464961e-05}"
      ]
     },
     "execution_count": 4,
     "metadata": {},
     "output_type": "execute_result"
    }
   ],
   "source": [
    "params_opt"
   ]
  },
  {
   "cell_type": "code",
   "execution_count": 5,
   "id": "61560710-82c0-403d-bfdb-1e8b35620db2",
   "metadata": {},
   "outputs": [
    {
     "data": {
      "text/plain": [
       "{'boosting_type': 'gbdt',\n",
       " 'class_weight': None,\n",
       " 'colsample_bytree': 1.0,\n",
       " 'importance_type': 'split',\n",
       " 'learning_rate': 0.1,\n",
       " 'max_depth': 12,\n",
       " 'min_child_samples': 20,\n",
       " 'min_child_weight': 1.543389098464961e-05,\n",
       " 'min_split_gain': 0.0,\n",
       " 'n_estimators': 100,\n",
       " 'n_jobs': -1,\n",
       " 'num_leaves': 44,\n",
       " 'objective': None,\n",
       " 'random_state': None,\n",
       " 'reg_alpha': 0.0,\n",
       " 'reg_lambda': 0.0,\n",
       " 'silent': 'warn',\n",
       " 'subsample': 0.9036402882362617,\n",
       " 'subsample_for_bin': 200000,\n",
       " 'subsample_freq': 1,\n",
       " 'min_data_in_leaf': 679,\n",
       " 'feature_fraction': 0.816089466689486,\n",
       " 'lambda_l1': 94,\n",
       " 'lambda_l2': 90,\n",
       " 'min_gain_to_split': 7.346768424642352}"
      ]
     },
     "execution_count": 5,
     "metadata": {},
     "output_type": "execute_result"
    }
   ],
   "source": [
    "estmtr_opt = LGBMClassifier(**params_opt)\n",
    "estmtr_opt.get_params()"
   ]
  },
  {
   "cell_type": "code",
   "execution_count": 6,
   "id": "dc059521-53f4-4781-936e-c574395a045e",
   "metadata": {},
   "outputs": [
    {
     "data": {
      "text/plain": [
       "{'boosting_type': 'gbdt',\n",
       " 'class_weight': None,\n",
       " 'colsample_bytree': 1.0,\n",
       " 'importance_type': 'split',\n",
       " 'learning_rate': 0.1,\n",
       " 'max_depth': -1,\n",
       " 'min_child_samples': 20,\n",
       " 'min_child_weight': 0.001,\n",
       " 'min_split_gain': 0.0,\n",
       " 'n_estimators': 100,\n",
       " 'n_jobs': -1,\n",
       " 'num_leaves': 31,\n",
       " 'objective': None,\n",
       " 'random_state': None,\n",
       " 'reg_alpha': 0.0,\n",
       " 'reg_lambda': 0.0,\n",
       " 'silent': 'warn',\n",
       " 'subsample': 1.0,\n",
       " 'subsample_for_bin': 200000,\n",
       " 'subsample_freq': 0}"
      ]
     },
     "execution_count": 6,
     "metadata": {},
     "output_type": "execute_result"
    }
   ],
   "source": [
    "estmtr_default = LGBMClassifier()\n",
    "estmtr_default.get_params()"
   ]
  },
  {
   "cell_type": "code",
   "execution_count": 7,
   "id": "a7a647e7-1b6f-4aed-8f65-3a251d936671",
   "metadata": {},
   "outputs": [
    {
     "data": {
      "text/plain": [
       "LGBMClassifier(feature_fraction=0.816089466689486, lambda_l1=94, lambda_l2=90,\n",
       "               max_depth=12, min_child_weight=1.543389098464961e-05,\n",
       "               min_data_in_leaf=679, min_gain_to_split=7.346768424642352,\n",
       "               num_leaves=44, subsample=0.9036402882362617, subsample_freq=1)"
      ]
     },
     "execution_count": 7,
     "metadata": {},
     "output_type": "execute_result"
    }
   ],
   "source": [
    "fit_params = dict(callbacks = [lgb.log_evaluation(period=50)],\n",
    "              eval_set = [(x_train, y_train),(x_test, y_test)],\n",
    "              eval_names = ['train','val'],\n",
    "              eval_metric = ['binary_logloss', 'auc'],\n",
    "              early_stopping_rounds = 10,\n",
    "              feature_name = 'auto',)\n",
    "\n",
    "estmtr_opt.fit(x_train, y_train, **fit_params)"
   ]
  },
  {
   "cell_type": "code",
   "execution_count": 8,
   "id": "b78dd297-b152-4e08-8eb8-421d6e359d46",
   "metadata": {},
   "outputs": [
    {
     "data": {
      "text/plain": [
       "defaultdict(collections.OrderedDict,\n",
       "            {'train': OrderedDict([('binary_logloss', 0.6931471805599466),\n",
       "                          ('auc', 0.5)]),\n",
       "             'val': OrderedDict([('binary_logloss', 0.6931471805599466),\n",
       "                          ('auc', 0.5)])})"
      ]
     },
     "execution_count": 8,
     "metadata": {},
     "output_type": "execute_result"
    }
   ],
   "source": [
    "estmtr_opt.best_score_"
   ]
  },
  {
   "cell_type": "code",
   "execution_count": 9,
   "id": "2e5368f3-9c5b-429f-8b00-40aef48ed4a7",
   "metadata": {},
   "outputs": [
    {
     "data": {
      "text/plain": [
       "defaultdict(collections.OrderedDict,\n",
       "            {'train': OrderedDict([('binary_logloss', 0.6746990463697193),\n",
       "                          ('auc', 0.751508)]),\n",
       "             'val': OrderedDict([('binary_logloss', 0.6947586138837399),\n",
       "                          ('auc', 0.49226625686832426)])})"
      ]
     },
     "execution_count": 9,
     "metadata": {},
     "output_type": "execute_result"
    }
   ],
   "source": [
    "estmtr_default.fit(x_train, y_train, **fit_params)\n",
    "estmtr_default.best_score_"
   ]
  },
  {
   "cell_type": "code",
   "execution_count": null,
   "id": "be766d5f-3262-4917-9618-e8159325daea",
   "metadata": {},
   "outputs": [],
   "source": []
  }
 ],
 "metadata": {
  "kernelspec": {
   "display_name": "Python 3 (ipykernel)",
   "language": "python",
   "name": "python3"
  },
  "language_info": {
   "codemirror_mode": {
    "name": "ipython",
    "version": 3
   },
   "file_extension": ".py",
   "mimetype": "text/x-python",
   "name": "python",
   "nbconvert_exporter": "python",
   "pygments_lexer": "ipython3",
   "version": "3.9.7"
  }
 },
 "nbformat": 4,
 "nbformat_minor": 5
}
